{
 "cells": [
  {
   "cell_type": "code",
   "execution_count": 1,
   "id": "551f4454-050a-4d1c-b1a2-1cf77288f4d1",
   "metadata": {},
   "outputs": [
    {
     "name": "stdout",
     "output_type": "stream",
     "text": [
      "The SHA3 function passed the test\n",
      "Result is: \n",
      " [0 1 1 0 0 1 0 0 0 0 1 1 1 0 1 1 0 0 0 0 0 0 0 1 0 1 1 0 1 1 1 0 1 0 0 1 1\n",
      " 0 0 1 0 0 1 0 0 0 1 1 0 1 0 0 1 0 0 0 1 1 1 0 0 1 1 1 0 0 1 0 0 1 1 1 1 1\n",
      " 1 0 1 1 0 1 0 0 1 0 0 1 1 0 0 1 1 1 0 1 1 0 1 0 0 0 1 0 1 0 0 1 0 1 1 0 0\n",
      " 0 0 0 0 1 1 1 1 1 0 1 1 0 1 0 1 1 1 0 1 1 1 1 1 1 0 0 1 0 0 1 1 1 0 0 1 0\n",
      " 1 1 0 0 1 1 1 0 0 0 0 0 0 0 0 1 1 1 1 0 1 0 0 1 1 1 0 0 0 0 1 0 0 0 1 1 0\n",
      " 0 0 1 0 1 1 0 0 1 0 1 1 1 0 1 1 0 0 1 1 1 0 1 0 0 0 1 0 0 0 0 1 0 1 1 1 0\n",
      " 1 0 1 0 1 0 1 0 1 1 0 1 1 1 0 0 1 0 1 1 1 0 0 0 0 0 1 1 0 0 0 1 0 1]\n"
     ]
    }
   ],
   "source": [
    "!python SHA3.py"
   ]
  },
  {
   "cell_type": "code",
   "execution_count": 2,
   "id": "c9356460-bd84-4bbe-a25e-2b70df199bf4",
   "metadata": {},
   "outputs": [],
   "source": [
    "import numpy as np\n",
    "from sys import exit"
   ]
  },
  {
   "cell_type": "code",
   "execution_count": 3,
   "id": "a54f095e-f0ea-49eb-8194-48dc2b12b434",
   "metadata": {},
   "outputs": [],
   "source": [
    "def oneToThree(v):\n",
    "    a = np.zeros((5, 5, 64), dtype = int) # Initialize empty 5x5x64 array\n",
    "    for i in range(5):\n",
    "        for j in range(5):\n",
    "            for k in range(64):\n",
    "                a[i][j][k] = v[64*(5*j + i) + k]\n",
    "    return a"
   ]
  },
  {
   "cell_type": "code",
   "execution_count": 4,
   "id": "83c0f3ff-4eec-4e31-bd80-18ed8eebb816",
   "metadata": {},
   "outputs": [],
   "source": [
    "# Auxillary routine #2\n",
    "# Collapses three-dimensional array into one-dimensional array\n",
    "def threeToOne(a):\n",
    "    v = np.zeros(1600, dtype = int) # Initialize empty array of size 1600\n",
    "    for i in range(5):\n",
    "        for j in range(5):\n",
    "            for k in range(64):\n",
    "                v[64*(5*j+i)+k] = a[i][j][k]\n",
    "    return v"
   ]
  },
  {
   "cell_type": "code",
   "execution_count": 5,
   "id": "03b80ba5-ed23-40fd-b7b6-cd976e369e83",
   "metadata": {},
   "outputs": [],
   "source": [
    "# Subroutine for theta (separated for clarity)\n",
    "def thetaHelper(ain, i, j, k):\n",
    "    # First \"summation\"\n",
    "    a = np.bitwise_xor(ain[(i-1)%5][0][k], ain[(i-1)%5][1][k])\n",
    "    b = np.bitwise_xor(ain[(i-1)%5][2][k], ain[(i-1)%5][3][k])\n",
    "    c = np.bitwise_xor(a, b)\n",
    "    first = np.bitwise_xor(c, ain[(i-1)%5][4][k])\n",
    "    # Second \"summation\"\n",
    "    d = np.bitwise_xor(ain[(i+1)%5][0][(k-1)%64], ain[(i+1)%5][1][(k-1)%64])\n",
    "    e = np.bitwise_xor(ain[(i+1)%5][2][(k-1)%64], ain[(i+1)%5][3][(k-1)%64])\n",
    "    f = np.bitwise_xor(d, e)\n",
    "    second = np.bitwise_xor(f, ain[(i+1)%5][4][(k-1)%64])\n",
    "    # XOR of results\n",
    "    return np.bitwise_xor(first, second)"
   ]
  },
  {
   "cell_type": "code",
   "execution_count": 6,
   "id": "cbc9d1e2-4e01-46a1-b55d-22550825067f",
   "metadata": {},
   "outputs": [],
   "source": [
    "# Theta\n",
    "def theta(ain):\n",
    "    aout = np.zeros((5, 5, 64), dtype = int) # Initialize empty 5x5x64 array\n",
    "    for i in range(5):\n",
    "        for j in range(5):\n",
    "            for k in range(64):\n",
    "                # XOR with result of sub-routine\n",
    "                aout[i][j][k] = np.bitwise_xor(ain[i][j][k], thetaHelper(ain, i, j, k))\n",
    "    return aout"
   ]
  },
  {
   "cell_type": "code",
   "execution_count": 7,
   "id": "37268039-7026-4395-9fef-f762d035d1d5",
   "metadata": {},
   "outputs": [],
   "source": [
    "# Rho\n",
    "def rho(ain):\n",
    "    rhomatrix=[[0,36,3,41,18],[1,44,10,45,2],[62,6,43,15,61],[28,55,25,21,56],[27,20,39,8,14]]\n",
    "    rhom = np.array(rhomatrix, dtype=int) # Convert LUT into numpy's array class (for convenience)\n",
    "    aout = np.zeros((5,5,64), dtype = int) # Initialize empty 5x5x64 array\n",
    "\n",
    "    for i in range(5):\n",
    "        for j in range(5):\n",
    "            for k in range(64):\n",
    "                select = rhom[i][j] # Use lookup table to \"calculate\" (t + 1)(t + 2)/2\n",
    "                aout[i][j][k] = ain[i][j][k - select]\n",
    "    return aout"
   ]
  },
  {
   "cell_type": "code",
   "execution_count": 8,
   "id": "2d03abf5-fe5d-4194-84cd-dc1adae661f2",
   "metadata": {},
   "outputs": [],
   "source": [
    "# Pi\n",
    "def pi(ain):\n",
    "    aout = np.zeros((5,5,64), dtype = int) # Initialize empty 5x5x64 array\n",
    "\n",
    "    for i in range(5):\n",
    "        for j in range(5):\n",
    "            for k in range(64):\n",
    "                aout[j][(2*i+3*j)%5][k] = ain[i][j][k]\n",
    "    return aout"
   ]
  },
  {
   "cell_type": "code",
   "execution_count": 9,
   "id": "f41dea03-437c-4bf3-9ca6-a8fe65633b3f",
   "metadata": {},
   "outputs": [],
   "source": [
    "# Chi\n",
    "def chi(ain):\n",
    "    aout = np.zeros((5,5,64), dtype = int) # Initialize empty 5x5x64 array\n",
    "\n",
    "    for i in range(5):\n",
    "        for j in range(5):\n",
    "            for k in range(64):\n",
    "                xor = np.bitwise_xor(ain[(i+1)%5][j][k], 1)\n",
    "                mul = xor * (ain[(i+2)%5][j][k])\n",
    "                aout[i][j][k] = np.bitwise_xor(ain[i][j][k], mul)\n",
    "    return aout"
   ]
  },
  {
   "cell_type": "code",
   "execution_count": 10,
   "id": "c50ac7d4-b742-4a2a-a12d-92a183c10af5",
   "metadata": {},
   "outputs": [],
   "source": [
    "# Iota\n",
    "def iota(ain, rnd):\n",
    "    # Initialize empty arrays\n",
    "    aout = np.zeros((5,5,64), dtype = int)\n",
    "    bit = np.zeros(dtype = int, shape = (5,5,64))\n",
    "    rc = np.zeros(dtype = int, shape = 168)\n",
    "\n",
    "    # Linear Feedback Shift Register\n",
    "    w = np.array([1,0,0,0,0,0,0,0], dtype = int)\n",
    "    rc[0] = w[0]\n",
    "    for i in range(1, 7*24):\n",
    "        a = np.bitwise_xor(w[0], w[4])\n",
    "        b = np.bitwise_xor(w[5], w[6])\n",
    "        tail = np.bitwise_xor(a, b)\n",
    "        w = [w[1],w[2],w[3],w[4],w[5],w[6],w[7], tail]\n",
    "        rc[i] = w[0]\n",
    "    # Calculate bits\n",
    "    for l in range(7):\n",
    "        q = pow(2, l) - 1\n",
    "        t = l + 7*rnd\n",
    "        bit[0][0][q] = rc[l + 7*rnd]\n",
    "    # Calculate aout\n",
    "    for i in range(5):\n",
    "        for j in range(5):\n",
    "            for k in range(64):\n",
    "                aout[i][j][k] = np.bitwise_xor(ain[i][j][k], bit[i][j][k])\n",
    "    return aout"
   ]
  },
  {
   "cell_type": "code",
   "execution_count": 11,
   "id": "5b6d7c0f-b379-451d-9847-12fabc1d8c8d",
   "metadata": {},
   "outputs": [],
   "source": [
    "# SHA-3 algorithm\n",
    "def sha3(pt, padding = True):\n",
    "    l = len(pt)\n",
    "\n",
    "    # Convert to numpy format and resize\n",
    "    v = np.array(pt, dtype = int)\n",
    "    v.resize(1600)\n",
    "\n",
    "    if padding:\n",
    "        if l > 1086:\n",
    "            sys.exit(\"Input must be less than or equal to 1086 bits\")\n",
    "        v[l] = 1\n",
    "        v[1087] = 1\n",
    "\n",
    "    a = oneToThree(v)\n",
    "    for rounds in range(24):\n",
    "        a = iota(chi(pi(rho(theta(a)))), rounds)\n",
    "\n",
    "    return threeToOne(a)"
   ]
  },
  {
   "cell_type": "code",
   "execution_count": 35,
   "id": "1f28db59-b251-4442-ba31-b33501d7c5e5",
   "metadata": {},
   "outputs": [
    {
     "name": "stdout",
     "output_type": "stream",
     "text": [
      "True\n"
     ]
    }
   ],
   "source": [
    "SHA3in=[0, 0, 1, 0, 1, 0, 0, 1, 0, 0, 0, 1, 0, 0, 1, 0, 1, 1, 0, 1, 1, 0, 1, 0, 1, 0, 0, 1, 0, 1, 1, 1, 1, 1, 0, 0, 0, 0, 0, 0, 0, 0, 0, 1, 1, 1, 0, 1, 1, 0, 1, 0, 1, 1, 1, 0, 1, 0, 0, 1, 0, 1, 1, 1, 0, 0, 1, 0, 0, 0, 1, 0, 0, 0, 0, 0, 0, 1, 0, 1, 1, 0, 1, 0, 1, 1, 0, 0, 1, 1, 1, 0, 0, 0, 1, 1, 0, 1, 1, 0, 1, 0, 1, 0, 1, 1, 0, 1, 0, 1, 1, 0, 0, 1, 0, 0, 0, 1, 1, 0, 0, 1, 1, 1, 0, 0, 1, 1, 0, 1, 1, 1, 0, 0, 1, 1, 0, 1, 1, 1, 1, 0, 1, 1, 0, 0, 0, 1, 1, 1, 1, 1, 1, 1, 0, 0, 0, 0, 1, 0, 1, 1, 1, 0, 1, 1, 0, 1, 1, 0, 0, 1, 0, 0, 1, 0, 0, 0, 1, 1, 1, 1, 0, 0, 0, 0, 1, 0, 1, 1, 1, 0, 1, 1, 1, 1, 1, 1, 1, 0, 0, 0, 0, 1, 0, 1, 1, 0, 0, 0, 1, 1, 1, 0, 1, 1, 1, 1, 1, 1, 0, 0, 0, 1, 1, 1, 0, 0, 0, 0, 0, 1, 1, 1, 1, 1, 0, 1, 0, 0, 0, 1, 1, 0, 0, 1, 0, 1, 0, 1, 0, 0, 1, 1, 1, 0, 1, 1, 1, 1, 1, 0, 1, 0, 1, 1, 0, 1, 1, 1, 0, 1, 0, 0, 0, 0, 0, 1, 0, 1, 0, 1, 0, 1, 0, 0, 0, 0, 1, 1, 1, 0, 0, 0, 1, 1, 1, 1, 1, 1, 0, 1, 1, 0, 0, 1, 0, 1, 1, 0, 1, 1, 1, 0, 0, 1, 1, 1, 0, 0, 0, 0, 1, 1, 1, 1, 0, 0, 0, 0, 1, 1, 1, 1, 0, 0, 1, 0, 0, 0, 0, 1, 0, 0, 0, 1, 1, 0, 0, 1, 0, 1, 1, 1, 1, 1, 1, 1, 0, 0, 1, 1, 1, 0, 1, 0, 1, 1, 1, 1, 1, 0, 0, 0, 0, 0, 0, 0, 1, 0, 1, 1, 0, 1, 1, 1, 0, 0, 1, 0, 1, 0, 0, 0, 0, 1, 0, 1, 0, 0, 1, 1, 1, 1, 1, 1, 1, 0, 0, 0, 1, 1, 0, 0, 0, 0, 0, 1, 1, 0, 0, 0, 0, 0, 0, 0, 1, 0, 0, 1, 0, 0, 0, 1, 1, 1, 1, 0, 0, 0, 0, 0, 1, 0, 1, 0, 0, 0, 0, 0, 0, 0, 0, 1, 1, 0, 1, 1, 0, 0, 1, 1, 1, 0, 0, 0, 0, 0, 0, 0, 1, 1, 1, 1, 0, 0, 1, 0, 1, 0, 1, 0, 0, 0, 1, 0, 0, 0, 1, 1, 1, 0, 1, 1, 0, 1, 0, 0, 0, 0, 0, 0, 0, 0, 0, 0, 1, 1, 0, 1, 1, 0, 1, 1, 1, 1, 1, 1, 0, 0, 0, 0, 0, 1, 1, 1, 0, 1, 1, 0, 1, 1, 1, 1, 1, 0, 1, 1, 0, 1, 0, 1, 1, 1, 1, 1, 1, 1, 0, 1, 1, 1, 0, 0, 1, 1, 1, 1, 0, 0, 1, 1, 0, 1, 1, 1, 0, 1, 1, 1, 0, 0, 0, 0, 1, 0, 0, 0, 1, 0, 1, 1, 0, 0, 0, 1, 0, 0, 1, 1, 0, 1, 0, 0, 1, 1, 0, 1, 0, 0, 0, 0, 0, 1, 1, 0, 0, 0, 0, 0, 0, 0, 0, 0, 0, 0, 1, 1, 1, 0, 0, 1, 0, 1, 0, 1, 1, 1, 1, 1, 1, 1, 1, 1, 1, 1, 1, 0, 0, 0, 1, 0, 0, 1, 0, 1, 0, 1, 0, 1, 0, 0, 1, 0, 0, 0, 0, 0, 1, 1, 1, 1, 1, 1, 1, 0, 1, 0, 1, 0, 0, 1, 1, 0, 1, 1, 0, 0, 1, 1, 1, 1, 1, 1, 0, 0, 1, 0, 0, 0, 0, 1, 1, 1, 1, 0, 0, 1, 1, 1, 1, 1, 0, 1, 0, 1, 0, 1, 0, 0, 0, 1, 1, 0, 1, 1, 1, 0, 0, 0, 1, 1, 1, 1, 1, 0, 0, 1, 0, 0, 0, 1, 1, 0, 1, 1, 0, 1, 1, 1, 1, 1, 1, 1, 1, 0, 0, 0, 1, 1, 1, 1, 1, 1, 0, 1, 1, 1, 1, 1, 0, 1, 1, 1, 0, 0, 0, 1, 1, 1, 0, 0, 0, 1, 1, 0, 1, 0, 1, 0, 0, 0, 1, 0, 0, 0, 1, 0, 0, 0, 0, 1, 0, 0, 1, 1, 0, 1, 0, 1, 0, 0, 0, 0, 1, 1, 0, 0, 0, 1, 1, 0, 1, 1, 1, 1, 0, 1, 1, 1, 1, 0, 1, 0, 0, 0, 0, 1, 0, 0, 1, 0, 1, 0, 1, 1, 0, 1, 0, 1, 0, 1, 0, 1, 1, 1, 0, 1, 1, 1, 0, 1, 1, 0, 1, 1, 1, 0, 1, 0, 1, 0, 1, 1, 0, 1, 1, 0, 1, 0, 0, 0, 1, 0, 0, 1, 1, 0, 1, 1, 0, 1, 0, 1, 0, 1, 0, 1, 0, 1, 0, 0, 0, 0, 1, 1, 0, 0, 1, 0, 1, 1, 0, 0, 1, 0, 0, 1, 0, 0, 0, 0, 0, 0, 0, 0, 1, 1, 0, 0, 1, 0, 1, 1, 1, 0, 1, 1, 1, 0, 0, 0, 0, 0, 1, 0, 1, 1, 0, 0, 0, 1, 1, 1, 1, 0, 0, 1, 0, 0, 1, 0, 0, 0, 1, 1, 0, 1, 1, 0, 0, 0, 1, 0, 1, 1, 0, 1, 0, 0, 0, 1, 0, 1, 1, 0, 0, 0, 0, 0, 1, 0, 1, 1, 0, 0, 0, 0, 1, 0, 0, 0, 1, 1, 1, 1, 1, 1, 0, 1]\n",
    "SHA3out=[0, 1, 1, 0, 0, 1, 0, 0, 0, 0, 1, 1, 1, 0, 1, 1, 0, 0, 0, 0, 0, 0, 0, 1, 0, 1, 1, 0, 1, 1, 1, 0, 1, 0, 0, 1, 1, 0, 0, 1, 0, 0, 1, 0, 0, 0, 1, 1, 0, 1, 0, 0, 1, 0, 0, 0, 1, 1, 1, 0, 0, 1, 1, 1, 0, 0, 1, 0, 0, 1, 1, 1, 1, 1, 1, 0, 1, 1, 0, 1, 0, 0, 1, 0, 0, 1, 1, 0, 0, 1, 1, 1, 0, 1, 1, 0, 1, 0, 0, 0, 1, 0, 1, 0, 0, 1, 0, 1, 1, 0, 0, 0, 0, 0, 0, 1, 1, 1, 1, 1, 0, 1, 1, 0, 1, 0, 1, 1, 1, 0, 1, 1, 1, 1, 1, 1, 0, 0, 1, 0, 0, 1, 1, 1, 0, 0, 1, 0, 1, 1, 0, 0, 1, 1, 1, 0, 0, 0, 0, 0, 0, 0, 0, 1, 1, 1, 1, 0, 1, 0, 0, 1, 1, 1, 0, 0, 0, 0, 1, 0, 0, 0, 1, 1, 0, 0, 0, 1, 0, 1, 1, 0, 0, 1, 0, 1, 1, 1, 0, 1, 1, 0, 0, 1, 1, 1, 0, 1, 0, 0, 0, 1, 0, 0, 0, 0, 1, 0, 1, 1, 1, 0, 1, 0, 1, 0, 1, 0, 1, 0, 1, 1, 0, 1, 1, 1, 0, 0, 1, 0, 1, 1, 1, 0, 0, 0, 0, 0, 1, 1, 0, 0, 0, 1, 0, 1]\n",
    "\n",
    "print (np.array_equal(sha3(SHA3in)[:256], np.array(SHA3out)))"
   ]
  },
  {
   "cell_type": "code",
   "execution_count": 32,
   "id": "d8b6e3f5-0b45-4b26-a802-ced0df66c60a",
   "metadata": {},
   "outputs": [],
   "source": [
    "def translate(message):\n",
    "    charcodes = [ord(c) for c in message]\n",
    "    bytes = []\n",
    "    for char in charcodes:\n",
    "        bytes.append(bin(char)[2:].zfill(8))\n",
    "    bits = []\n",
    "    for byte in bytes:\n",
    "        for bit in byte:\n",
    "            bits.append(int(bit))\n",
    "    return bits\n"
   ]
  },
  {
   "cell_type": "code",
   "execution_count": 34,
   "id": "5d25a40f-9f8b-411b-bd0e-9c2238e37703",
   "metadata": {},
   "outputs": [
    {
     "name": "stdout",
     "output_type": "stream",
     "text": [
      "0x818cbbfe65ca9c8855110628a7042319d39205cbd2f0969267725a603a77acab\n"
     ]
    }
   ],
   "source": [
    "binary_string = ''.join(str(bit) for bit in sha3(translate('Florida Atalntic University'))[:256])\n",
    "binary_integer = int(binary_string, 2)\n",
    "hex_string = hex(binary_integer)\n",
    "print(hex_string)"
   ]
  }
 ],
 "metadata": {
  "kernelspec": {
   "display_name": "Python 3 (ipykernel)",
   "language": "python",
   "name": "python3"
  },
  "language_info": {
   "codemirror_mode": {
    "name": "ipython",
    "version": 3
   },
   "file_extension": ".py",
   "mimetype": "text/x-python",
   "name": "python",
   "nbconvert_exporter": "python",
   "pygments_lexer": "ipython3",
   "version": "3.12.6"
  }
 },
 "nbformat": 4,
 "nbformat_minor": 5
}
